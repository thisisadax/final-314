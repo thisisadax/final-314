{
 "cells": [
  {
   "cell_type": "code",
   "execution_count": null,
   "metadata": {},
   "outputs": [],
   "source": [
    "import numpy as np\n",
    "import matplotlib.pyplot as plt"
   ]
  },
  {
   "cell_type": "markdown",
   "metadata": {},
   "source": [
    "The following dataset depicts raw connectivity matrices derived from intracranial electrophysiology data recorded from a single human epilepsy patient. Recordings were conducted over the course of propofol anesthesia and segmented into three arousal states: WA (Wake), S (Sedated), and U (Unconscious). The pairwise weighted-phase lag index was computed in the gamma frequency band for data segments assigned to each arousal state, yielding a single connectivity matrix for each state. The connectivity matrices were preprocessed by a simple thresholding and normalization procedure for downstream analysis."
   ]
  },
  {
   "cell_type": "markdown",
   "metadata": {},
   "source": [
    "### Plot the raw (unprocessed) connectivity matrices for each state."
   ]
  },
  {
   "cell_type": "code",
   "execution_count": null,
   "metadata": {},
   "outputs": [],
   "source": [
    "# read the mat file.\n",
    "states = ['WA', 'S', 'U']\n",
    "mat_contents = dict(np.load('raw_matrices.npz', allow_pickle=True))\n",
    "raw_matrices = {state: mat_contents[state] for state in states}\n",
    "\n",
    "# plot the raw connectivity matrices.\n",
    "fig, axes = plt.subplots(1, 3, figsize=(12,4), constrained_layout=True)\n",
    "for i, state in enumerate(states):\n",
    "    cax = axes[i].imshow(raw_matrices[state], cmap='jet', interpolation='none')\n",
    "    axes[i].set_title(state, fontsize=20)\n",
    "    axes[i].set_xticks([])\n",
    "    axes[i].set_yticks([])\n",
    "fig.colorbar(cax, ax=axes[-1])"
   ]
  },
  {
   "cell_type": "markdown",
   "metadata": {},
   "source": [
    "#### 1. (1pt) Compute the eigenvalue spectrum for each state and plot them as lines on the same plot. Make sure to include a clear legend."
   ]
  },
  {
   "cell_type": "code",
   "execution_count": null,
   "metadata": {},
   "outputs": [],
   "source": [
    "# compute the SVD for each transition matrix and plot the eigenvalues values.\n",
    "states = ['WA', 'S', 'U']\n",
    "mat_contents = dict(np.load('preprocessed_matrices.npz', allow_pickle=True))\n",
    "preprocessed_matrices = {state: mat_contents[state] for state in states}\n",
    "\n",
    "fig, ax = plt.subplots(1,1,figsize=(5,5))\n",
    "for state in states:\n",
    "    matrix = preprocessed_matrices[state]\n",
    "    eigenvalues = ???? # compute the eigenvalues of the matrix.\n",
    "    ???? # plot the eigenvalues for the current state.\n",
    "\n",
    "# Add a legend, set the y-axis limits, and set the title.\n",
    "ax.legend()\n",
    "ax.set_ylim(-0.05,1)\n",
    "ax.set_xlim(0,75) \n",
    "ax.set_title('Eigenvalue spectrum', fontsize=15)"
   ]
  },
  {
   "cell_type": "markdown",
   "metadata": {},
   "source": [
    "#### 2. (1pt) Effective dimensionality ($D_E$) is one way of measuring the intrinsic dimensionality of a given matrix. Implement a function that computes the effective dimensionality of the matrix and answer the following questions. Which state has the lowest effective dimensionality? Given what we know about the effective dimensionality of the connectivity matrices from each state, which state would be best approximated by a low-rank approximation?"
   ]
  },
  {
   "cell_type": "markdown",
   "metadata": {},
   "source": [
    "$$D_E=\\frac{(\\sum_{i=2}^{N}\\lambda_i)^2}{N*\\sum_{i=2}^{N}\\lambda_i^2}$$"
   ]
  },
  {
   "cell_type": "code",
   "execution_count": null,
   "metadata": {},
   "outputs": [],
   "source": [
    "'''\n",
    "Compute the effective dimensionality of the input vector of eigenvalues.\n",
    "'''\n",
    "def effective_dimensionality(eigenvalues):\n",
    "    eigenvalues = ???? #1.  Exclude the first eigenvalue.\n",
    "    x1 = ????          #2.  Compute the numerator.\n",
    "    x2 = ????          #3.  Compute the denominator.\n",
    "    N =  ????          #4.  Compute N (the number of eigenvalues)\n",
    "    eff_dim = ????     #5.  Compute the effective dimensionality using the formula.\n",
    "    return eff_dim\n",
    "\n",
    "def effective_dimensionality(seq):\n",
    "    seq = seq[1:] # Exclude the first eigenvalue.\n",
    "    x1 = np.sum(np.abs(seq)) ** 2\n",
    "    x2 = np.sum(seq ** 2)\n",
    "    return (x1 / x2) / seq.shape[0]\n",
    "\n",
    "# Compute the effective dimensionality for each state.\n",
    "for state in states:\n",
    "    matrix = preprocessed_matrices[state]\n",
    "    eigenvalues = ???? # compute the eigenvalues of the matrix.\n",
    "    eff_dim = effective_dimensionality(eigenvalues)\n",
    "    print(f'state: {state}, effective dimensionality: {eff_dim:.2f}')"
   ]
  },
  {
   "cell_type": "markdown",
   "metadata": {},
   "source": [
    "$$"
   ]
  }
 ],
 "metadata": {
  "kernelspec": {
   "display_name": "code",
   "language": "python",
   "name": "python3"
  },
  "language_info": {
   "codemirror_mode": {
    "name": "ipython",
    "version": 3
   },
   "file_extension": ".py",
   "mimetype": "text/x-python",
   "name": "python",
   "nbconvert_exporter": "python",
   "pygments_lexer": "ipython3",
   "version": "3.10.13"
  }
 },
 "nbformat": 4,
 "nbformat_minor": 2
}
